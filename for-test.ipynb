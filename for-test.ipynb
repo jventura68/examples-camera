{
 "cells": [
  {
   "cell_type": "code",
   "execution_count": 7,
   "metadata": {},
   "outputs": [
    {
     "name": "stdout",
     "output_type": "stream",
     "text": [
      "\n",
      "<rect x=\"300\" y=\"420\" width=\"40\" height=\"40\" \n",
      "      stroke=\"none\" fill=\"red\" \n",
      "      style=\"fill-opacity: 0.5;\"/>\n",
      "\n"
     ]
    }
   ],
   "source": [
    "SVG_R_ARROW = '''\n",
    "<polygon points=\"{x},{y} {x2},{center} {x},{y2}\" \n",
    "         stroke=\"none\" \n",
    "         fill=\"green\" \n",
    "         style=\"fill-opacity: {alpha};\">\n",
    "</polygon>'''\n",
    "\n",
    "SVG_L_ARROW = '''\n",
    "<polygon points=\"{x},{y} {x2},{center} {x},{y2}\" \n",
    "         stroke=\"none\" \n",
    "         fill=\"green\" \n",
    "         style=\"fill-opacity: {alpha};\">\n",
    "</polygon>'''\n",
    "\n",
    "SVG_OK = '''\n",
    "<rect x=\"{x}\" y=\"{y}\" width=\"{w}\" height=\"{w}\" \n",
    "      stroke=\"none\" fill=\"{fill}\" \n",
    "      style=\"fill-opacity: {alpha};\"/>\n",
    "'''\n",
    "\n",
    "def add_rigth_arrow(self, x, y, w, h, alpha):\n",
    "    x2=x+w\n",
    "    y2=y+h\n",
    "    center = y+h/2\n",
    "    print(SVG_R_ARROW.format(x=x, y=y, x2=x2, y2=y2, center=center, alpha=alpha))\n",
    "\n",
    "def add_left_arrow(self, x, y, w, h, alpha):\n",
    "    x2=x-w\n",
    "    y2=y+h\n",
    "    center = y+h/2\n",
    "    print(SVG_R_ARROW.format(x=x, y=y, x2=x2, y2=y2, center=center, alpha=alpha))\n",
    "\n",
    "def cam_ok(self, x, y, w, fill, alpha):\n",
    "    x2=x+w\n",
    "    y2=y+w\n",
    "    print(SVG_OK.format(x=x, y=y, w=40, fill=fill, alpha=alpha))\n",
    "\n",
    "cam_ok(None, x=300, y=420, w=60, fill=\"red\", alpha=0.5)"
   ]
  },
  {
   "cell_type": "code",
   "execution_count": null,
   "metadata": {},
   "outputs": [],
   "source": []
  }
 ],
 "metadata": {
  "interpreter": {
   "hash": "0d9aba8886fc116281bbad5c6bbc52757ab3f20704c0fdb768c82086cd6658fe"
  },
  "kernelspec": {
   "display_name": "Python 3.9.7 ('dexs')",
   "language": "python",
   "name": "python3"
  },
  "language_info": {
   "codemirror_mode": {
    "name": "ipython",
    "version": 3
   },
   "file_extension": ".py",
   "mimetype": "text/x-python",
   "name": "python",
   "nbconvert_exporter": "python",
   "pygments_lexer": "ipython3",
   "version": "3.9.7"
  },
  "orig_nbformat": 4
 },
 "nbformat": 4,
 "nbformat_minor": 2
}
